{
 "cells": [
  {
   "cell_type": "code",
   "execution_count": null,
   "metadata": {},
   "outputs": [],
   "source": [
    "import importlib\n",
    "# importlib.reload(spinup.vpg_pytorch)# as vpg\n",
    "from spinup import vpg_pytorch as vpg\n",
    "import torch.nn as nn\n",
    "import gym\n",
    "\n",
    "env_fn = lambda : gym.make('CartPole-v0')\n",
    "\n",
    "ac_kwargs = dict(hidden_sizes=[64,64])\n",
    "\n",
    "logger_kwargs = dict(output_dir='runs/vpg/cartpole', exp_name='vpg_test')\n",
    "\n",
    "vpg(env_fn=env_fn, ac_kwargs=ac_kwargs, steps_per_epoch=5000, epochs=20, logger_kwargs=logger_kwargs)\n"
   ]
  },
  {
   "cell_type": "code",
   "execution_count": null,
   "metadata": {},
   "outputs": [],
   "source": [
    "import numpy as np\n",
    "a=np.zeros(4)\n",
    "np.append(a,3)\n",
    "print(a)\n",
    "\n",
    "import torch\n",
    "a = torch.tensor(a)\n",
    "# help(torch.append)\n",
    "# torch.cat((a,a))\n",
    "torch.is_tensor(2)\n",
    "a.numpy()\n",
    "\n",
    "\n",
    "myDict = {'a':np.zeros(2), 's':np.ones(2)}\n",
    "myA = myDict['a']\n",
    "myA[0] = 1\n",
    "print(myA)"
   ]
  },
  {
   "cell_type": "code",
   "execution_count": 9,
   "metadata": {},
   "outputs": [
    {
     "name": "stdout",
     "output_type": "stream",
     "text": [
      "Box(2,) Box(1,) (1,)\n"
     ]
    }
   ],
   "source": [
    "import gym\n",
    "import time\n",
    "import numpy as np\n",
    "from spinup.algos.pytorch.ppo.core import FrameStack, FrameDiff\n",
    "# env = gym.make('Pong-ram-v0')\n",
    "env = gym.make('MountainCarContinuous-v0')\n",
    "# env = FrameDiff(env,2)\n",
    "# env.observation_space\n",
    "# obs = env.reset()\n",
    "print(env.observation_space, env.action_space, env.action_space.shape)\n",
    "# print(obs.shape)\n",
    "# done = False\n",
    "# i = 0\n",
    "# while not done and i<100:\n",
    "#     a = env.action_space.sample()\n",
    "#     obs, rew, done, info = env.step(a)\n",
    "#     print(obs)\n",
    "# #     print(obs[0],obs[128], obs.shape)\n",
    "# #     print(np.sum(abs(obs-obs_old)))\n",
    "# #     print(len(obs), obs[0].shape)\n",
    "# #     print(obs)\n",
    "#     env.render()\n",
    "#     time.sleep(0.05)\n",
    "#     i+=1\n",
    "# env.close()"
   ]
  },
  {
   "cell_type": "code",
   "execution_count": null,
   "metadata": {},
   "outputs": [],
   "source": [
    "# gym.spaces\n",
    "# import numpy as np\n",
    "# a = np.zeros((2,3))\n",
    "# a.flatten()\n",
    "# a = (1,2)\n",
    "# b =(3,4)\n",
    "# (*a,*b)\n",
    "from collections import deque\n",
    "frame = deque([],maxlen=2)\n",
    "frame.append(np.ones(4)*1)\n",
    "frame.append(np.ones(4)*2)\n",
    "frame.append(np.ones(4)*3)\n",
    "\n",
    "print(frame)\n",
    "arr = np.array(frame).flatten()\n",
    "print(arr)"
   ]
  },
  {
   "cell_type": "code",
   "execution_count": 63,
   "metadata": {},
   "outputs": [
    {
     "data": {
      "text/plain": [
       "tensor([2, 0])"
      ]
     },
     "execution_count": 63,
     "metadata": {},
     "output_type": "execute_result"
    }
   ],
   "source": [
    "import torch\n",
    "from torch.distributions.categorical import Categorical\n",
    "\n",
    "data = torch.tensor([[1.0,2.0,3.0], [3.0,2.0,1.0]])\n",
    "my_dist = Categorical(data)\n",
    "my_dist.sample()\n",
    "# probs = my_dist.probs\n",
    "# log_probs = torch.log(probs)\n",
    "# print(probs)\n",
    "# print(log_probs)\n",
    "# torch.exp(-torch.tensor(.69))\n",
    "my_dist.sample()"
   ]
  },
  {
   "cell_type": "code",
   "execution_count": 12,
   "metadata": {},
   "outputs": [
    {
     "name": "stdout",
     "output_type": "stream",
     "text": [
      "tensor([[ 0.6906,  1.5620],\n",
      "        [-1.0037,  0.7868],\n",
      "        [ 0.0929, -0.1904],\n",
      "        [-1.2542, -0.3318],\n",
      "        [ 0.2995,  0.9785]])\n"
     ]
    },
    {
     "data": {
      "text/plain": [
       "tensor([ 0.6906,  0.7868,  0.0929, -0.3318,  0.9785])"
      ]
     },
     "execution_count": 12,
     "metadata": {},
     "output_type": "execute_result"
    }
   ],
   "source": [
    "import torch\n",
    "q = torch.randn((5,2))\n",
    "print(q)\n",
    "ids = [0,1,0,1,1]\n",
    "q[torch.arange(5),ids]\n",
    "# torch.arange(3)"
   ]
  },
  {
   "cell_type": "code",
   "execution_count": 1,
   "metadata": {},
   "outputs": [
    {
     "ename": "TypeError",
     "evalue": "savefig() missing 1 required positional argument: 'fname'",
     "output_type": "error",
     "traceback": [
      "\u001b[0;31m---------------------------------------------------------------------------\u001b[0m",
      "\u001b[0;31mTypeError\u001b[0m                                 Traceback (most recent call last)",
      "\u001b[0;32m<ipython-input-1-d1a744ef24a5>\u001b[0m in \u001b[0;36m<module>\u001b[0;34m\u001b[0m\n\u001b[1;32m      1\u001b[0m \u001b[0;32mimport\u001b[0m \u001b[0mmatplotlib\u001b[0m\u001b[0;34m.\u001b[0m\u001b[0mpyplot\u001b[0m \u001b[0;32mas\u001b[0m \u001b[0mplt\u001b[0m\u001b[0;34m\u001b[0m\u001b[0;34m\u001b[0m\u001b[0m\n\u001b[0;32m----> 2\u001b[0;31m \u001b[0mplt\u001b[0m\u001b[0;34m.\u001b[0m\u001b[0msavefig\u001b[0m\u001b[0;34m(\u001b[0m\u001b[0;34m)\u001b[0m\u001b[0;34m\u001b[0m\u001b[0;34m\u001b[0m\u001b[0m\n\u001b[0m",
      "\u001b[0;32m~/anaconda3/lib/python3.7/site-packages/matplotlib/pyplot.py\u001b[0m in \u001b[0;36msavefig\u001b[0;34m(*args, **kwargs)\u001b[0m\n\u001b[1;32m    727\u001b[0m \u001b[0;32mdef\u001b[0m \u001b[0msavefig\u001b[0m\u001b[0;34m(\u001b[0m\u001b[0;34m*\u001b[0m\u001b[0margs\u001b[0m\u001b[0;34m,\u001b[0m \u001b[0;34m**\u001b[0m\u001b[0mkwargs\u001b[0m\u001b[0;34m)\u001b[0m\u001b[0;34m:\u001b[0m\u001b[0;34m\u001b[0m\u001b[0;34m\u001b[0m\u001b[0m\n\u001b[1;32m    728\u001b[0m     \u001b[0mfig\u001b[0m \u001b[0;34m=\u001b[0m \u001b[0mgcf\u001b[0m\u001b[0;34m(\u001b[0m\u001b[0;34m)\u001b[0m\u001b[0;34m\u001b[0m\u001b[0;34m\u001b[0m\u001b[0m\n\u001b[0;32m--> 729\u001b[0;31m     \u001b[0mres\u001b[0m \u001b[0;34m=\u001b[0m \u001b[0mfig\u001b[0m\u001b[0;34m.\u001b[0m\u001b[0msavefig\u001b[0m\u001b[0;34m(\u001b[0m\u001b[0;34m*\u001b[0m\u001b[0margs\u001b[0m\u001b[0;34m,\u001b[0m \u001b[0;34m**\u001b[0m\u001b[0mkwargs\u001b[0m\u001b[0;34m)\u001b[0m\u001b[0;34m\u001b[0m\u001b[0;34m\u001b[0m\u001b[0m\n\u001b[0m\u001b[1;32m    730\u001b[0m     \u001b[0mfig\u001b[0m\u001b[0;34m.\u001b[0m\u001b[0mcanvas\u001b[0m\u001b[0;34m.\u001b[0m\u001b[0mdraw_idle\u001b[0m\u001b[0;34m(\u001b[0m\u001b[0;34m)\u001b[0m   \u001b[0;31m# need this if 'transparent=True' to reset colors\u001b[0m\u001b[0;34m\u001b[0m\u001b[0;34m\u001b[0m\u001b[0m\n\u001b[1;32m    731\u001b[0m     \u001b[0;32mreturn\u001b[0m \u001b[0mres\u001b[0m\u001b[0;34m\u001b[0m\u001b[0;34m\u001b[0m\u001b[0m\n",
      "\u001b[0;31mTypeError\u001b[0m: savefig() missing 1 required positional argument: 'fname'"
     ]
    }
   ],
   "source": [
    "import matplotlib.pyplot as plt\n",
    "plt.savefig()"
   ]
  }
 ],
 "metadata": {
  "kernelspec": {
   "display_name": "base",
   "language": "python",
   "name": "base"
  },
  "language_info": {
   "codemirror_mode": {
    "name": "ipython",
    "version": 3
   },
   "file_extension": ".py",
   "mimetype": "text/x-python",
   "name": "python",
   "nbconvert_exporter": "python",
   "pygments_lexer": "ipython3",
   "version": "3.7.4"
  }
 },
 "nbformat": 4,
 "nbformat_minor": 2
}
