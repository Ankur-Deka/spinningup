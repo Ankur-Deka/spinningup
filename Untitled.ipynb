{
 "cells": [
  {
   "cell_type": "code",
   "execution_count": null,
   "metadata": {},
   "outputs": [],
   "source": [
    "import importlib\n",
    "# importlib.reload(spinup.vpg_pytorch)# as vpg\n",
    "from spinup import vpg_pytorch as vpg\n",
    "import torch.nn as nn\n",
    "import gym\n",
    "\n",
    "env_fn = lambda : gym.make('CartPole-v0')\n",
    "\n",
    "ac_kwargs = dict(hidden_sizes=[64,64])\n",
    "\n",
    "logger_kwargs = dict(output_dir='runs/vpg/cartpole', exp_name='vpg_test')\n",
    "\n",
    "vpg(env_fn=env_fn, ac_kwargs=ac_kwargs, steps_per_epoch=5000, epochs=20, logger_kwargs=logger_kwargs)\n"
   ]
  },
  {
   "cell_type": "code",
   "execution_count": null,
   "metadata": {},
   "outputs": [],
   "source": [
    "import numpy as np\n",
    "a=np.zeros(4)\n",
    "np.append(a,3)\n",
    "print(a)\n",
    "\n",
    "import torch\n",
    "a = torch.tensor(a)\n",
    "# help(torch.append)\n",
    "# torch.cat((a,a))\n",
    "torch.is_tensor(2)\n",
    "a.numpy()\n",
    "\n",
    "\n",
    "myDict = {'a':np.zeros(2), 's':np.ones(2)}\n",
    "myA = myDict['a']\n",
    "myA[0] = 1\n",
    "print(myA)"
   ]
  },
  {
   "cell_type": "code",
   "execution_count": 8,
   "metadata": {},
   "outputs": [
    {
     "name": "stdout",
     "output_type": "stream",
     "text": [
      "Box(128,) Discrete(6) ()\n"
     ]
    }
   ],
   "source": [
    "import gym\n",
    "import time\n",
    "import numpy as np\n",
    "from spinup.algos.pytorch.ppo.core import FrameStack, FrameDiff\n",
    "env = gym.make('Pong-ram-v0')\n",
    "env = FrameDiff(env,2)\n",
    "# env.observation_space\n",
    "obs = env.reset()\n",
    "print(env.observation_space, env.action_space, env.action_space.shape)\n",
    "# print(obs.shape)\n",
    "# done = False\n",
    "# i = 0\n",
    "# while not done and i<100:\n",
    "#     a = env.action_space.sample()\n",
    "#     obs, rew, done, info = env.step(a)\n",
    "#     print(obs)\n",
    "# #     print(obs[0],obs[128], obs.shape)\n",
    "# #     print(np.sum(abs(obs-obs_old)))\n",
    "# #     print(len(obs), obs[0].shape)\n",
    "# #     print(obs)\n",
    "#     env.render()\n",
    "#     time.sleep(0.05)\n",
    "#     i+=1\n",
    "# env.close()"
   ]
  },
  {
   "cell_type": "code",
   "execution_count": null,
   "metadata": {},
   "outputs": [],
   "source": [
    "# gym.spaces\n",
    "# import numpy as np\n",
    "# a = np.zeros((2,3))\n",
    "# a.flatten()\n",
    "# a = (1,2)\n",
    "# b =(3,4)\n",
    "# (*a,*b)\n",
    "from collections import deque\n",
    "frame = deque([],maxlen=2)\n",
    "frame.append(np.ones(4)*1)\n",
    "frame.append(np.ones(4)*2)\n",
    "frame.append(np.ones(4)*3)\n",
    "\n",
    "print(frame)\n",
    "arr = np.array(frame).flatten()\n",
    "print(arr)"
   ]
  }
 ],
 "metadata": {
  "kernelspec": {
   "display_name": "base",
   "language": "python",
   "name": "base"
  },
  "language_info": {
   "codemirror_mode": {
    "name": "ipython",
    "version": 3
   },
   "file_extension": ".py",
   "mimetype": "text/x-python",
   "name": "python",
   "nbconvert_exporter": "python",
   "pygments_lexer": "ipython3",
   "version": "3.7.4"
  }
 },
 "nbformat": 4,
 "nbformat_minor": 2
}
